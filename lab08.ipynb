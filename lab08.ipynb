{
 "cells": [
  {
   "cell_type": "code",
   "execution_count": 1,
   "id": "0381883f",
   "metadata": {},
   "outputs": [],
   "source": [
    "# импорт библиотек\n",
    "import numpy as np "
   ]
  },
  {
   "cell_type": "code",
   "execution_count": 9,
   "id": "04218dfd",
   "metadata": {},
   "outputs": [],
   "source": [
    "def shifr(p1, p2):\n",
    "    print ('Сообщение P1 - ', p1)\n",
    "    text_arrayp1 = []\n",
    "    for i in p1:\n",
    "        text_arrayp1.append(i.encode('cp1251').hex())\n",
    "    print('\\nНаше сообщение P1 в 16ричной системе - ', *text_arrayp1)\n",
    "    print ('Сообщение P2 - ', p2)\n",
    "    text_arrayp2 = []\n",
    "    for i in p2:\n",
    "        text_arrayp2.append(i.encode('cp1251').hex())\n",
    "    print('\\nНаше сообщение P2 в 16ричной системе - ', *text_arrayp2)\n",
    "    \n",
    "    \n",
    "    \n",
    "    key_int = np.random.randint(0, 255, len(p1))\n",
    "    key_hex = [hex(i)[2:] for i in key_int]\n",
    "    print('\\nШифр - ', *key_hex)\n",
    "    \n",
    "    \n",
    "    text_cryptp1 = []\n",
    "    for i in range(len(text_arrayp1)):\n",
    "        text_cryptp1.append('{:02x}'.format(int(text_arrayp1[i], 16)^ int(key_hex[i], 16)))\n",
    "    print('\\nНаше зашифрованное сообщение C1 в 16ричной системе- ', *text_cryptp1)\n",
    "    text_cryptp2 = []\n",
    "    for i in range(len(text_arrayp2)):\n",
    "        text_cryptp2.append('{:02x}'.format(int(text_arrayp2[i], 16)^ int(key_hex[i], 16)))\n",
    "    print('\\nНаше зашифрованное сообщение C2 в 16ричной системе- ', *text_cryptp2)\n",
    "        \n",
    "    finalp1 = bytearray.fromhex(''.join(text_cryptp1)).decode('cp1251')\n",
    "    print ('\\nЗашифрованное сообщение C1 - ', finalp1)\n",
    "    finalp2 = bytearray.fromhex(''.join(text_cryptp2)).decode('cp1251')\n",
    "    print ('\\nЗашифрованное сообщение C2 - ', finalp2)\n",
    "    \n",
    "    return key_hex, finalp1, finalp2"
   ]
  },
  {
   "cell_type": "code",
   "execution_count": 10,
   "id": "c5a14b3c",
   "metadata": {},
   "outputs": [],
   "source": [
    "p1 = \"НаВашисходящийот1204\"\n",
    "p2 = \"ВСеверныйфилиалБанка\""
   ]
  },
  {
   "cell_type": "code",
   "execution_count": 11,
   "id": "63dd64ed",
   "metadata": {},
   "outputs": [
    {
     "name": "stdout",
     "output_type": "stream",
     "text": [
      "Сообщение P1 -  НаВашисходящийот1204\n",
      "\n",
      "Наше сообщение P1 в 16ричной системе -  cd e0 c2 e0 f8 e8 f1 f5 ee e4 ff f9 e8 e9 ee f2 31 32 30 34\n",
      "Сообщение P2 -  ВСеверныйфилиалБанка\n",
      "\n",
      "Наше сообщение P2 в 16ричной системе -  c2 d1 e5 e2 e5 f0 ed fb e9 f4 e8 eb e8 e0 eb c1 e0 ed ea e0\n",
      "\n",
      "Шифр -  2a 68 c8 b2 a8 35 ca 4c a8 e 37 d2 8a 2f 2f 94 5b 6c c0 a6\n",
      "\n",
      "Наше зашифрованное сообщение C1 в 16ричной системе-  e7 88 0a 52 50 dd 3b b9 46 ea c8 2b 62 c6 c1 66 6a 5e f0 92\n",
      "\n",
      "Наше зашифрованное сообщение C2 в 16ричной системе-  e8 b9 2d 50 4d c5 27 b7 41 fa df 39 62 cf c4 55 bb 81 2a 46\n",
      "\n",
      "Зашифрованное сообщение C1 -  з€\n",
      "RPЭ;№FкИ+bЖБfj^р’\n",
      "\n",
      "Зашифрованное сообщение C2 -  и№-PMЕ'·AъЯ9bПДU»Ѓ*F\n"
     ]
    }
   ],
   "source": [
    "key, c1, c2 = shifr(p1, p2)"
   ]
  },
  {
   "cell_type": "code",
   "execution_count": 16,
   "id": "01ced4a6",
   "metadata": {},
   "outputs": [],
   "source": [
    "def deshifr(c1, c2, p1):\n",
    "    print(\"\\nЗашифрованный 1ый текст: \", c1)\n",
    "    print(\"\\nЗашифрованный 2ой текст: \", c2)\n",
    "    print(\"Открытый 1ый текст: \", p1)\n",
    "    \n",
    "    c1_hex = []\n",
    "    for i in c1:\n",
    "        c1_hex.append(i.encode(\"cp1251\").hex())\n",
    "    print(\"\\nЗашифрованный 1ый текст в 16ом представлении: \", *c1_hex)\n",
    "    \n",
    "    c2_hex = []\n",
    "    for i in c2:\n",
    "        c2_hex.append(i.encode(\"cp1251\").hex())\n",
    "    print(\"\\nЗашифрованный 2ой текст в 16ом представлении: \", *c2_hex)\n",
    "    \n",
    "    p_hex1 = []\n",
    "    for i in p1:\n",
    "        p_hex1.append(i.encode(\"cp1251\").hex())\n",
    "    print(\"\\nОткрытый 1ый текст в 16ом представлении: \", *p_hex1)\n",
    "    \n",
    "    cr1_cr2 = []\n",
    "    p_hex2 = []\n",
    "    for i in range(len(p1)):\n",
    "        cr1_cr2.append(\"{:02x}\".format(int(c1_hex[i],16) ^ int(c2_hex[i],16)))\n",
    "        p_hex2.append(\"{:02x}\".format(int(cr1_cr2[i], 16) ^ int(p_hex1[i], 16)))\n",
    "    \n",
    "    print(\"Открытый 2ой текст в 16ом представлении: \", *p_hex2)\n",
    "    p2 = bytearray.fromhex(\"\".join(p_hex2)).decode(\"cp1251\")\n",
    "    print(\"Открытый 2ой текст: \", p2)\n",
    "    return p2"
   ]
  },
  {
   "cell_type": "code",
   "execution_count": 15,
   "id": "e1f2097c",
   "metadata": {},
   "outputs": [
    {
     "name": "stdout",
     "output_type": "stream",
     "text": [
      "\n",
      "Зашифрованный 1ый текст:  з€\n",
      "RPЭ;№FкИ+bЖБfj^р’\n",
      "\n",
      "Зашифрованный 2ой текст:  и№-PMЕ'·AъЯ9bПДU»Ѓ*F\n",
      "Открытый 1ый текст:  НаВашисходящийот1204\n",
      "\n",
      "Зашифрованный 1ый текст в 16ом представлении:  e7 88 0a 52 50 dd 3b b9 46 ea c8 2b 62 c6 c1 66 6a 5e f0 92\n",
      "\n",
      "Зашифрованный 2ой текст в 16ом представлении:  e8 b9 2d 50 4d c5 27 b7 41 fa df 39 62 cf c4 55 bb 81 2a 46\n",
      "\n",
      "Открытый 1ый текст в 16ом представлении:  cd e0 c2 e0 f8 e8 f1 f5 ee e4 ff f9 e8 e9 ee f2 31 32 30 34\n",
      "Открытый 2ой текст в 16ом представлении:  c2 d1 e5 e2 e5 f0 ed fb e9 f4 e8 eb e8 e0 eb c1 e0 ed ea e0\n",
      "Откртый 2ой текст:  ВСеверныйфилиалБанка\n"
     ]
    }
   ],
   "source": [
    "open_p2 = deshifr(c1, c2, p1)"
   ]
  },
  {
   "cell_type": "code",
   "execution_count": null,
   "id": "d6ca379d",
   "metadata": {},
   "outputs": [],
   "source": []
  }
 ],
 "metadata": {
  "kernelspec": {
   "display_name": "Python 3",
   "language": "python",
   "name": "python3"
  },
  "language_info": {
   "codemirror_mode": {
    "name": "ipython",
    "version": 3
   },
   "file_extension": ".py",
   "mimetype": "text/x-python",
   "name": "python",
   "nbconvert_exporter": "python",
   "pygments_lexer": "ipython3",
   "version": "3.8.8"
  }
 },
 "nbformat": 4,
 "nbformat_minor": 5
}
